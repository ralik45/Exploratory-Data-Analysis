{
  "metadata": {
    "kernelspec": {
      "language": "python",
      "display_name": "Python 3",
      "name": "python3"
    },
    "language_info": {
      "pygments_lexer": "ipython3",
      "nbconvert_exporter": "python",
      "version": "3.6.4",
      "file_extension": ".py",
      "codemirror_mode": {
        "name": "ipython",
        "version": 3
      },
      "name": "python",
      "mimetype": "text/x-python"
    },
    "colab": {
      "name": "Exploratory Data Analysis",
      "provenance": [],
      "include_colab_link": true
    }
  },
  "nbformat_minor": 0,
  "nbformat": 4,
  "cells": [
    {
      "cell_type": "markdown",
      "metadata": {
        "id": "view-in-github",
        "colab_type": "text"
      },
      "source": [
        "<a href=\"https://colab.research.google.com/github/ralik45/Exploratory-Data-Analysis/blob/main/Exploratory_Data_Analysis.ipynb\" target=\"_parent\"><img src=\"https://colab.research.google.com/assets/colab-badge.svg\" alt=\"Open In Colab\"/></a>"
      ]
    },
    {
      "source": [
        "\n",
        "# IMPORTANT: RUN THIS CELL IN ORDER TO IMPORT YOUR KAGGLE DATA SOURCES\n",
        "# TO THE CORRECT LOCATION (/kaggle/input) IN YOUR NOTEBOOK,\n",
        "# THEN FEEL FREE TO DELETE THIS CELL.\n",
        "# NOTE: THIS NOTEBOOK ENVIRONMENT DIFFERS FROM KAGGLE'S PYTHON\n",
        "# ENVIRONMENT SO THERE MAY BE MISSING LIBRARIES USED BY YOUR\n",
        "# NOTEBOOK.\n",
        "\n",
        "import os\n",
        "import sys\n",
        "from tempfile import NamedTemporaryFile\n",
        "from urllib.request import urlopen\n",
        "from urllib.parse import unquote, urlparse\n",
        "from urllib.error import HTTPError\n",
        "from zipfile import ZipFile\n",
        "import tarfile\n",
        "import shutil\n",
        "\n",
        "CHUNK_SIZE = 40960\n",
        "DATA_SOURCE_MAPPING = 'rollercoaster-database:https%3A%2F%2Fstorage.googleapis.com%2Fkaggle-data-sets%2F1727728%2F2824917%2Fbundle%2Farchive.zip%3FX-Goog-Algorithm%3DGOOG4-RSA-SHA256%26X-Goog-Credential%3Dgcp-kaggle-com%2540kaggle-161607.iam.gserviceaccount.com%252F20240810%252Fauto%252Fstorage%252Fgoog4_request%26X-Goog-Date%3D20240810T092211Z%26X-Goog-Expires%3D259200%26X-Goog-SignedHeaders%3Dhost%26X-Goog-Signature%3D2dd2ef557488ba025ae71542651e700daa15c9a5a8a450af4b4c01084751c607dc53f2a81df615005ab1aeb45e96e1366d68bf9ff98251003470e7d3ddee3c27949ca4138ce43c532e20a0ef138307841568118f8f1a6b66f684af2cd2197939d22dd9b1426fcc12de4dc70916238117f90395ec71d93a41d865ac6f40de9bcdbc3827d15b3481fcfe0c27510f8429c03e1dd4e72d299cac8270b8731ba4f6eb2b991023607ba920eff52e5c80f5dd1a29d1e31446e86931ae156af563815efd6068118850c8b9ae9488ff118fc7ad6607f61a7828edfa47e257e2af943fe0122cb577b1726d9847fd78b06edf93c1207a49bfd9975285595df0ab517ca68418'\n",
        "\n",
        "KAGGLE_INPUT_PATH='/kaggle/input'\n",
        "KAGGLE_WORKING_PATH='/kaggle/working'\n",
        "KAGGLE_SYMLINK='kaggle'\n",
        "\n",
        "!umount /kaggle/input/ 2> /dev/null\n",
        "shutil.rmtree('/kaggle/input', ignore_errors=True)\n",
        "os.makedirs(KAGGLE_INPUT_PATH, 0o777, exist_ok=True)\n",
        "os.makedirs(KAGGLE_WORKING_PATH, 0o777, exist_ok=True)\n",
        "\n",
        "try:\n",
        "  os.symlink(KAGGLE_INPUT_PATH, os.path.join(\"..\", 'input'), target_is_directory=True)\n",
        "except FileExistsError:\n",
        "  pass\n",
        "try:\n",
        "  os.symlink(KAGGLE_WORKING_PATH, os.path.join(\"..\", 'working'), target_is_directory=True)\n",
        "except FileExistsError:\n",
        "  pass\n",
        "\n",
        "for data_source_mapping in DATA_SOURCE_MAPPING.split(','):\n",
        "    directory, download_url_encoded = data_source_mapping.split(':')\n",
        "    download_url = unquote(download_url_encoded)\n",
        "    filename = urlparse(download_url).path\n",
        "    destination_path = os.path.join(KAGGLE_INPUT_PATH, directory)\n",
        "    try:\n",
        "        with urlopen(download_url) as fileres, NamedTemporaryFile() as tfile:\n",
        "            total_length = fileres.headers['content-length']\n",
        "            print(f'Downloading {directory}, {total_length} bytes compressed')\n",
        "            dl = 0\n",
        "            data = fileres.read(CHUNK_SIZE)\n",
        "            while len(data) > 0:\n",
        "                dl += len(data)\n",
        "                tfile.write(data)\n",
        "                done = int(50 * dl / int(total_length))\n",
        "                sys.stdout.write(f\"\\r[{'=' * done}{' ' * (50-done)}] {dl} bytes downloaded\")\n",
        "                sys.stdout.flush()\n",
        "                data = fileres.read(CHUNK_SIZE)\n",
        "            if filename.endswith('.zip'):\n",
        "              with ZipFile(tfile) as zfile:\n",
        "                zfile.extractall(destination_path)\n",
        "            else:\n",
        "              with tarfile.open(tfile.name) as tarfile:\n",
        "                tarfile.extractall(destination_path)\n",
        "            print(f'\\nDownloaded and uncompressed: {directory}')\n",
        "    except HTTPError as e:\n",
        "        print(f'Failed to load (likely expired) {download_url} to path {destination_path}')\n",
        "        continue\n",
        "    except OSError as e:\n",
        "        print(f'Failed to load {download_url} to path {destination_path}')\n",
        "        continue\n",
        "\n",
        "print('Data source import complete.')\n"
      ],
      "metadata": {
        "id": "cfApRBY2mIAG"
      },
      "cell_type": "code",
      "outputs": [],
      "execution_count": null
    },
    {
      "cell_type": "markdown",
      "source": [
        "# Step 0: Import and Reading Data"
      ],
      "metadata": {
        "id": "pNRRI1XymIAL"
      }
    },
    {
      "cell_type": "code",
      "source": [
        "import pandas as pd\n",
        "import numpy as np\n",
        "import matplotlib.pylab as plt\n",
        "import seaborn as sns\n",
        "plt.style.use('ggplot')\n",
        "pd.set_option('display.max_columns', 200)"
      ],
      "metadata": {
        "_uuid": "8f2839f25d086af736a60e9eeb907d3b93b6e0e5",
        "_cell_guid": "b1076dfc-b9ad-4769-8c92-a6c4dae69d19",
        "execution": {
          "iopub.status.busy": "2023-07-18T01:00:08.062853Z",
          "iopub.execute_input": "2023-07-18T01:00:08.063306Z",
          "iopub.status.idle": "2023-07-18T01:00:08.070416Z",
          "shell.execute_reply.started": "2023-07-18T01:00:08.063276Z",
          "shell.execute_reply": "2023-07-18T01:00:08.069436Z"
        },
        "trusted": true,
        "id": "eN_4P_9mmIAQ"
      },
      "execution_count": null,
      "outputs": []
    },
    {
      "cell_type": "code",
      "source": [
        "df = pd.read_csv('/kaggle/input/rollercoaster-database/coaster_db.csv')"
      ],
      "metadata": {
        "execution": {
          "iopub.status.busy": "2023-07-18T01:00:08.07202Z",
          "iopub.execute_input": "2023-07-18T01:00:08.072866Z",
          "iopub.status.idle": "2023-07-18T01:00:08.114572Z",
          "shell.execute_reply.started": "2023-07-18T01:00:08.072822Z",
          "shell.execute_reply": "2023-07-18T01:00:08.113346Z"
        },
        "trusted": true,
        "id": "w8SaNGxxmIAR"
      },
      "execution_count": null,
      "outputs": []
    },
    {
      "cell_type": "markdown",
      "source": [
        "# Step 1: Data Understanding\n",
        "- Dataframe shape\n",
        "- head and tail\n",
        "- dtypes\n",
        "- describe"
      ],
      "metadata": {
        "id": "1MkkOwPNmIAS"
      }
    },
    {
      "cell_type": "code",
      "source": [
        "df.shape"
      ],
      "metadata": {
        "execution": {
          "iopub.status.busy": "2023-07-18T01:00:08.116528Z",
          "iopub.execute_input": "2023-07-18T01:00:08.116895Z",
          "iopub.status.idle": "2023-07-18T01:00:08.123671Z",
          "shell.execute_reply.started": "2023-07-18T01:00:08.116863Z",
          "shell.execute_reply": "2023-07-18T01:00:08.122373Z"
        },
        "trusted": true,
        "id": "rapXJkq1mIAT"
      },
      "execution_count": null,
      "outputs": []
    },
    {
      "cell_type": "code",
      "source": [
        "df.head()"
      ],
      "metadata": {
        "execution": {
          "iopub.status.busy": "2023-07-18T01:00:08.125178Z",
          "iopub.execute_input": "2023-07-18T01:00:08.125498Z",
          "iopub.status.idle": "2023-07-18T01:00:08.17825Z",
          "shell.execute_reply.started": "2023-07-18T01:00:08.125472Z",
          "shell.execute_reply": "2023-07-18T01:00:08.177097Z"
        },
        "trusted": true,
        "id": "5jvjrKKnmIAT"
      },
      "execution_count": null,
      "outputs": []
    },
    {
      "cell_type": "code",
      "source": [
        "    df.columns"
      ],
      "metadata": {
        "execution": {
          "iopub.status.busy": "2023-07-18T01:00:08.18127Z",
          "iopub.execute_input": "2023-07-18T01:00:08.181703Z",
          "iopub.status.idle": "2023-07-18T01:00:08.190909Z",
          "shell.execute_reply.started": "2023-07-18T01:00:08.181669Z",
          "shell.execute_reply": "2023-07-18T01:00:08.189696Z"
        },
        "trusted": true,
        "id": "F1bNbAokmIAU"
      },
      "execution_count": null,
      "outputs": []
    },
    {
      "cell_type": "code",
      "source": [
        "df.dtypes"
      ],
      "metadata": {
        "execution": {
          "iopub.status.busy": "2023-07-18T01:00:08.192309Z",
          "iopub.execute_input": "2023-07-18T01:00:08.192706Z",
          "iopub.status.idle": "2023-07-18T01:00:08.206672Z",
          "shell.execute_reply.started": "2023-07-18T01:00:08.192676Z",
          "shell.execute_reply": "2023-07-18T01:00:08.205408Z"
        },
        "trusted": true,
        "id": "AmbX0sRcmIAV"
      },
      "execution_count": null,
      "outputs": []
    },
    {
      "cell_type": "code",
      "source": [
        "df.describe()"
      ],
      "metadata": {
        "execution": {
          "iopub.status.busy": "2023-07-18T01:00:08.207946Z",
          "iopub.execute_input": "2023-07-18T01:00:08.208309Z",
          "iopub.status.idle": "2023-07-18T01:00:08.25904Z",
          "shell.execute_reply.started": "2023-07-18T01:00:08.20827Z",
          "shell.execute_reply": "2023-07-18T01:00:08.257851Z"
        },
        "trusted": true,
        "id": "JNWXhx_fmIAW"
      },
      "execution_count": null,
      "outputs": []
    },
    {
      "cell_type": "markdown",
      "source": [
        "# Step 2: Data Preparation\n",
        "- Dropping irrelevant columns and rows\n",
        "- Identifying duplicated columns\n",
        "- Renaming columns\n",
        "- Feature creation"
      ],
      "metadata": {
        "id": "zTxMfJlbmIAW"
      }
    },
    {
      "cell_type": "code",
      "source": [
        "df.head()"
      ],
      "metadata": {
        "execution": {
          "iopub.status.busy": "2023-07-18T01:00:08.260366Z",
          "iopub.execute_input": "2023-07-18T01:00:08.26092Z",
          "iopub.status.idle": "2023-07-18T01:00:08.314876Z",
          "shell.execute_reply.started": "2023-07-18T01:00:08.260887Z",
          "shell.execute_reply": "2023-07-18T01:00:08.313871Z"
        },
        "trusted": true,
        "id": "PxUjIMfKmIAX"
      },
      "execution_count": null,
      "outputs": []
    },
    {
      "cell_type": "code",
      "source": [
        "# Example of dropping columns\n",
        "# df.drop(['Opening date'], axis=1)"
      ],
      "metadata": {
        "execution": {
          "iopub.status.busy": "2023-07-18T01:00:08.316654Z",
          "iopub.execute_input": "2023-07-18T01:00:08.316984Z",
          "iopub.status.idle": "2023-07-18T01:00:08.321721Z",
          "shell.execute_reply.started": "2023-07-18T01:00:08.316957Z",
          "shell.execute_reply": "2023-07-18T01:00:08.320495Z"
        },
        "trusted": true,
        "id": "4KS5NXunmIAX"
      },
      "execution_count": null,
      "outputs": []
    },
    {
      "cell_type": "code",
      "source": [
        "df = df[['coaster_name',\n",
        "    #'Length', 'Speed',\n",
        "    'Location', 'Status',\n",
        "         #'Opening date',\n",
        "       #'Type',\n",
        "    'Manufacturer',\n",
        "    #'Height restriction', 'Model', 'Height',\n",
        "     #  'Inversions', 'Lift/launch system', 'Cost', 'Trains', 'Park section',\n",
        "      # 'Duration', 'Capacity', 'G-force', 'Designer', 'Max vertical angle',\n",
        "       #'Drop', 'Soft opening date', 'Fast Lane available', 'Replaced',\n",
        "       #'Track layout', 'Fastrack available', 'Soft opening date.1',\n",
        "       #'Closing date', 'Opened', 'Replaced by', 'Website',\n",
        "       #'Flash Pass Available', 'Must transfer from wheelchair', 'Theme',\n",
        "       #'Single rider line available', 'Restraint Style',\n",
        "       #'Flash Pass available', 'Acceleration', 'Restraints', 'Name',\n",
        "       'year_introduced', 'latitude', 'longitude', 'Type_Main',\n",
        "       'opening_date_clean',\n",
        "    #'speed1', 'speed2', 'speed1_value', 'speed1_unit',\n",
        "       'speed_mph',\n",
        "    #'height_value', 'height_unit',\n",
        "    'height_ft',\n",
        "       'Inversions_clean', 'Gforce_clean']].copy()"
      ],
      "metadata": {
        "execution": {
          "iopub.status.busy": "2023-07-18T01:00:08.323098Z",
          "iopub.execute_input": "2023-07-18T01:00:08.323418Z",
          "iopub.status.idle": "2023-07-18T01:00:08.335755Z",
          "shell.execute_reply.started": "2023-07-18T01:00:08.323392Z",
          "shell.execute_reply": "2023-07-18T01:00:08.334762Z"
        },
        "trusted": true,
        "id": "tm1tajHUmIAY"
      },
      "execution_count": null,
      "outputs": []
    },
    {
      "cell_type": "code",
      "source": [
        "df['opening_date_clean'] = pd.to_datetime(df['opening_date_clean'])"
      ],
      "metadata": {
        "execution": {
          "iopub.status.busy": "2023-07-18T01:00:08.340193Z",
          "iopub.execute_input": "2023-07-18T01:00:08.340596Z",
          "iopub.status.idle": "2023-07-18T01:00:08.350819Z",
          "shell.execute_reply.started": "2023-07-18T01:00:08.340564Z",
          "shell.execute_reply": "2023-07-18T01:00:08.349891Z"
        },
        "trusted": true,
        "id": "FV86i97vmIAY"
      },
      "execution_count": null,
      "outputs": []
    },
    {
      "cell_type": "code",
      "source": [
        "# Rename our columns\n",
        "df = df.rename(columns={'coaster_name':'Coaster_Name',\n",
        "                  'year_introduced':'Year_Introduced',\n",
        "                  'latitude':'Latitude',\n",
        "                  'longitude':'Longitude',\n",
        "                  'opening_date_clean':'Opening_Date',\n",
        "                   'speed_mph':'Speed_mph',\n",
        "                   'height_ft':'Height_ft',\n",
        "                   'Inversions_clean':'Inversions',\n",
        "                   'Gforce_clean':'Gforce'})"
      ],
      "metadata": {
        "execution": {
          "iopub.status.busy": "2023-07-18T01:00:08.352209Z",
          "iopub.execute_input": "2023-07-18T01:00:08.352533Z",
          "iopub.status.idle": "2023-07-18T01:00:08.366112Z",
          "shell.execute_reply.started": "2023-07-18T01:00:08.352488Z",
          "shell.execute_reply": "2023-07-18T01:00:08.365031Z"
        },
        "trusted": true,
        "id": "Gqb67xezmIAY"
      },
      "execution_count": null,
      "outputs": []
    },
    {
      "cell_type": "code",
      "source": [
        "df.isna().sum()"
      ],
      "metadata": {
        "execution": {
          "iopub.status.busy": "2023-07-18T01:00:08.367525Z",
          "iopub.execute_input": "2023-07-18T01:00:08.367888Z",
          "iopub.status.idle": "2023-07-18T01:00:08.381571Z",
          "shell.execute_reply.started": "2023-07-18T01:00:08.367849Z",
          "shell.execute_reply": "2023-07-18T01:00:08.380408Z"
        },
        "trusted": true,
        "id": "-59JYZmvmIAY"
      },
      "execution_count": null,
      "outputs": []
    },
    {
      "cell_type": "code",
      "source": [
        "df.loc[df.duplicated()]"
      ],
      "metadata": {
        "execution": {
          "iopub.status.busy": "2023-07-18T01:00:08.382902Z",
          "iopub.execute_input": "2023-07-18T01:00:08.383622Z",
          "iopub.status.idle": "2023-07-18T01:00:08.401522Z",
          "shell.execute_reply.started": "2023-07-18T01:00:08.38359Z",
          "shell.execute_reply": "2023-07-18T01:00:08.40071Z"
        },
        "trusted": true,
        "id": "qfe44oaSmIAZ"
      },
      "execution_count": null,
      "outputs": []
    },
    {
      "cell_type": "code",
      "source": [
        "df.loc[df.duplicated(subset=['Coaster_Name'])].head(5)"
      ],
      "metadata": {
        "execution": {
          "iopub.status.busy": "2023-07-18T01:00:08.402772Z",
          "iopub.execute_input": "2023-07-18T01:00:08.403078Z",
          "iopub.status.idle": "2023-07-18T01:00:08.425199Z",
          "shell.execute_reply.started": "2023-07-18T01:00:08.403042Z",
          "shell.execute_reply": "2023-07-18T01:00:08.42395Z"
        },
        "trusted": true,
        "id": "SH3V6DLpmIAZ"
      },
      "execution_count": null,
      "outputs": []
    },
    {
      "cell_type": "code",
      "source": [
        "#Cheking an example duplicate\n",
        "df.query('Coaster_Name == \"Crystal Beach Cyclone\"')"
      ],
      "metadata": {
        "execution": {
          "iopub.status.busy": "2023-07-18T01:00:08.426829Z",
          "iopub.execute_input": "2023-07-18T01:00:08.427347Z",
          "iopub.status.idle": "2023-07-18T01:00:08.451437Z",
          "shell.execute_reply.started": "2023-07-18T01:00:08.427316Z",
          "shell.execute_reply": "2023-07-18T01:00:08.450189Z"
        },
        "trusted": true,
        "id": "5nYTUnOemIAa"
      },
      "execution_count": null,
      "outputs": []
    },
    {
      "cell_type": "code",
      "source": [
        "df.columns"
      ],
      "metadata": {
        "execution": {
          "iopub.status.busy": "2023-07-18T01:00:08.452981Z",
          "iopub.execute_input": "2023-07-18T01:00:08.45379Z",
          "iopub.status.idle": "2023-07-18T01:00:08.46055Z",
          "shell.execute_reply.started": "2023-07-18T01:00:08.45376Z",
          "shell.execute_reply": "2023-07-18T01:00:08.459451Z"
        },
        "trusted": true,
        "id": "RG2bYxedmIAb"
      },
      "execution_count": null,
      "outputs": []
    },
    {
      "cell_type": "code",
      "source": [
        "df = df.loc[~df.duplicated(subset=['Coaster_Name', 'Location', 'Opening_Date',])] \\\n",
        "    .reset_index(drop=True).copy()"
      ],
      "metadata": {
        "execution": {
          "iopub.status.busy": "2023-07-18T01:00:08.461828Z",
          "iopub.execute_input": "2023-07-18T01:00:08.462144Z",
          "iopub.status.idle": "2023-07-18T01:00:08.474235Z",
          "shell.execute_reply.started": "2023-07-18T01:00:08.462118Z",
          "shell.execute_reply": "2023-07-18T01:00:08.473197Z"
        },
        "trusted": true,
        "id": "Xw3-ygGnmIAb"
      },
      "execution_count": null,
      "outputs": []
    },
    {
      "cell_type": "code",
      "source": [
        "df.shape"
      ],
      "metadata": {
        "execution": {
          "iopub.status.busy": "2023-07-18T01:00:08.475679Z",
          "iopub.execute_input": "2023-07-18T01:00:08.476434Z",
          "iopub.status.idle": "2023-07-18T01:00:08.484778Z",
          "shell.execute_reply.started": "2023-07-18T01:00:08.476396Z",
          "shell.execute_reply": "2023-07-18T01:00:08.48359Z"
        },
        "trusted": true,
        "id": "fKzfqbEXmIAc"
      },
      "execution_count": null,
      "outputs": []
    },
    {
      "cell_type": "code",
      "source": [
        "df"
      ],
      "metadata": {
        "execution": {
          "iopub.status.busy": "2023-07-18T01:00:08.486214Z",
          "iopub.execute_input": "2023-07-18T01:00:08.486627Z",
          "iopub.status.idle": "2023-07-18T01:00:08.519766Z",
          "shell.execute_reply.started": "2023-07-18T01:00:08.486598Z",
          "shell.execute_reply": "2023-07-18T01:00:08.518531Z"
        },
        "trusted": true,
        "id": "SJfuzt-ZmIAc"
      },
      "execution_count": null,
      "outputs": []
    },
    {
      "cell_type": "markdown",
      "source": [
        "# Step 3: Feature Understanding\n",
        "(Univariate analysis)\n",
        "- Plotting Feature Distributions\n",
        "    - Histogram\n",
        "    - KDE\n",
        "    - Boxplot"
      ],
      "metadata": {
        "id": "Vd1pQkromIAc"
      }
    },
    {
      "cell_type": "code",
      "source": [
        "ax = df['Year_Introduced'].value_counts() \\\n",
        "    .head(10) \\\n",
        "    .plot(kind='bar', title='Top 10 Years Coasters Introduced')\n",
        "ax.set_xlabel('Year Introduced')\n",
        "ax.set_ylabel('Count')"
      ],
      "metadata": {
        "execution": {
          "iopub.status.busy": "2023-07-18T01:00:08.522101Z",
          "iopub.execute_input": "2023-07-18T01:00:08.52254Z",
          "iopub.status.idle": "2023-07-18T01:00:08.819498Z",
          "shell.execute_reply.started": "2023-07-18T01:00:08.522482Z",
          "shell.execute_reply": "2023-07-18T01:00:08.818435Z"
        },
        "trusted": true,
        "id": "McoCCsQwmIAe"
      },
      "execution_count": null,
      "outputs": []
    },
    {
      "cell_type": "code",
      "source": [
        "dx = df['Speed_mph'].plot(kind='hist', bins=20, title='Coaster Speed (mph)')\n",
        "dx.set_xlabel('Speed (mph)')"
      ],
      "metadata": {
        "execution": {
          "iopub.status.busy": "2023-07-18T01:00:08.821564Z",
          "iopub.execute_input": "2023-07-18T01:00:08.822009Z",
          "iopub.status.idle": "2023-07-18T01:00:09.224812Z",
          "shell.execute_reply.started": "2023-07-18T01:00:08.821967Z",
          "shell.execute_reply": "2023-07-18T01:00:09.223631Z"
        },
        "trusted": true,
        "id": "qytewNHImIAf"
      },
      "execution_count": null,
      "outputs": []
    },
    {
      "cell_type": "code",
      "source": [
        "dx = df['Speed_mph'].plot(kind='kde', title='Coaster Speed (mph)')\n",
        "dx.set_xlabel('Speed (mph)')"
      ],
      "metadata": {
        "execution": {
          "iopub.status.busy": "2023-07-18T01:00:09.225993Z",
          "iopub.execute_input": "2023-07-18T01:00:09.226318Z",
          "iopub.status.idle": "2023-07-18T01:00:09.594549Z",
          "shell.execute_reply.started": "2023-07-18T01:00:09.22629Z",
          "shell.execute_reply": "2023-07-18T01:00:09.593592Z"
        },
        "trusted": true,
        "id": "InmvfPcVmIAf"
      },
      "execution_count": null,
      "outputs": []
    },
    {
      "cell_type": "markdown",
      "source": [
        "# Step 4: Feature Relationships\n",
        "- Scatterplot\n",
        "- Heatmap Correlation\n",
        "- Pairplot\n",
        "- Groupby comparisons"
      ],
      "metadata": {
        "id": "CoytFc4nmIAg"
      }
    },
    {
      "cell_type": "code",
      "source": [
        "df.plot(kind='scatter', x='Speed_mph', y='Height_ft', title='Coster Speed vs Height')\n",
        "plt.show()"
      ],
      "metadata": {
        "execution": {
          "iopub.status.busy": "2023-07-18T01:00:09.596029Z",
          "iopub.execute_input": "2023-07-18T01:00:09.596435Z",
          "iopub.status.idle": "2023-07-18T01:00:09.925629Z",
          "shell.execute_reply.started": "2023-07-18T01:00:09.596403Z",
          "shell.execute_reply": "2023-07-18T01:00:09.924451Z"
        },
        "trusted": true,
        "id": "D5-jGVTvmIAg"
      },
      "execution_count": null,
      "outputs": []
    },
    {
      "cell_type": "code",
      "source": [
        "sns.scatterplot(x='Speed_mph', y='Height_ft', hue='Year_Introduced',  data=df)"
      ],
      "metadata": {
        "execution": {
          "iopub.status.busy": "2023-07-18T01:00:09.927134Z",
          "iopub.execute_input": "2023-07-18T01:00:09.928385Z",
          "iopub.status.idle": "2023-07-18T01:00:10.481034Z",
          "shell.execute_reply.started": "2023-07-18T01:00:09.928343Z",
          "shell.execute_reply": "2023-07-18T01:00:10.479859Z"
        },
        "trusted": true,
        "id": "fLHrrEMVmIAh"
      },
      "execution_count": null,
      "outputs": []
    },
    {
      "cell_type": "code",
      "source": [
        "df.head()"
      ],
      "metadata": {
        "execution": {
          "iopub.status.busy": "2023-07-18T01:00:10.482493Z",
          "iopub.execute_input": "2023-07-18T01:00:10.482933Z",
          "iopub.status.idle": "2023-07-18T01:00:10.503984Z",
          "shell.execute_reply.started": "2023-07-18T01:00:10.482902Z",
          "shell.execute_reply": "2023-07-18T01:00:10.502582Z"
        },
        "trusted": true,
        "id": "Y8-3kPCrmIAh"
      },
      "execution_count": null,
      "outputs": []
    },
    {
      "cell_type": "code",
      "source": [
        "sns.pairplot(df, vars=['Year_Introduced', 'Speed_mph', 'Height_ft', 'Inversions', 'Gforce'], hue='Type_Main')\n",
        "plt.show()"
      ],
      "metadata": {
        "execution": {
          "iopub.status.busy": "2023-07-18T01:00:10.505498Z",
          "iopub.execute_input": "2023-07-18T01:00:10.505867Z",
          "iopub.status.idle": "2023-07-18T01:00:22.014944Z",
          "shell.execute_reply.started": "2023-07-18T01:00:10.505837Z",
          "shell.execute_reply": "2023-07-18T01:00:22.013761Z"
        },
        "trusted": true,
        "id": "wdKNy20emIAi"
      },
      "execution_count": null,
      "outputs": []
    },
    {
      "cell_type": "code",
      "source": [
        "df_corr=df[['Year_Introduced', 'Speed_mph', 'Height_ft', 'Inversions', 'Gforce']].dropna().corr()\n",
        "df_corr"
      ],
      "metadata": {
        "execution": {
          "iopub.status.busy": "2023-07-18T01:00:22.016652Z",
          "iopub.execute_input": "2023-07-18T01:00:22.017018Z",
          "iopub.status.idle": "2023-07-18T01:00:22.033585Z",
          "shell.execute_reply.started": "2023-07-18T01:00:22.016988Z",
          "shell.execute_reply": "2023-07-18T01:00:22.032446Z"
        },
        "trusted": true,
        "id": "lZsQ-GS3mIAi"
      },
      "execution_count": null,
      "outputs": []
    },
    {
      "cell_type": "code",
      "source": [
        "sns.heatmap(df_corr, annot=True)"
      ],
      "metadata": {
        "execution": {
          "iopub.status.busy": "2023-07-18T01:00:22.038702Z",
          "iopub.execute_input": "2023-07-18T01:00:22.039021Z",
          "iopub.status.idle": "2023-07-18T01:00:23.077265Z",
          "shell.execute_reply.started": "2023-07-18T01:00:22.038996Z",
          "shell.execute_reply": "2023-07-18T01:00:23.076008Z"
        },
        "trusted": true,
        "id": "fVcJbXtjmIAi"
      },
      "execution_count": null,
      "outputs": []
    },
    {
      "cell_type": "markdown",
      "source": [
        "# Step 5: Ask a Question About The Data\n",
        "- Try to answer a question you have about the data using a plot or statistic.\n",
        "\n",
        "What are the locations with the fastest roller coasters (min 5)?"
      ],
      "metadata": {
        "id": "AisHVU2GmIAj"
      }
    },
    {
      "cell_type": "code",
      "source": [
        "df.head()"
      ],
      "metadata": {
        "execution": {
          "iopub.status.busy": "2023-07-18T01:00:23.079002Z",
          "iopub.execute_input": "2023-07-18T01:00:23.079461Z",
          "iopub.status.idle": "2023-07-18T01:00:23.101611Z",
          "shell.execute_reply.started": "2023-07-18T01:00:23.079421Z",
          "shell.execute_reply": "2023-07-18T01:00:23.100403Z"
        },
        "trusted": true,
        "id": "a-wd4XANmIAj"
      },
      "execution_count": null,
      "outputs": []
    },
    {
      "cell_type": "code",
      "source": [
        "ax = df.query('Location != \"Other\"')\\\n",
        "    .groupby('Location')['Speed_mph']\\\n",
        "    .agg(['mean', 'count'])\\\n",
        "    .query('count >= 10')\\\n",
        "    .sort_values('mean')['mean']\\\n",
        "    .plot(kind='barh', figsize=(12,5), title='Average Coster Speed by Location', )\n",
        "ax.set_xlabel('Average Coaster Speed')\n",
        "plt.show()"
      ],
      "metadata": {
        "execution": {
          "iopub.status.busy": "2023-07-18T01:05:39.747846Z",
          "iopub.execute_input": "2023-07-18T01:05:39.748253Z",
          "iopub.status.idle": "2023-07-18T01:05:40.113664Z",
          "shell.execute_reply.started": "2023-07-18T01:05:39.748224Z",
          "shell.execute_reply": "2023-07-18T01:05:40.112575Z"
        },
        "trusted": true,
        "id": "UtGsVIrrmIAj"
      },
      "execution_count": null,
      "outputs": []
    },
    {
      "cell_type": "code",
      "source": [],
      "metadata": {
        "id": "AN3iOofVmIAj"
      },
      "execution_count": null,
      "outputs": []
    }
  ]
}